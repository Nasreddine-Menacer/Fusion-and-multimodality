{
 "cells": [
  {
   "cell_type": "markdown",
   "metadata": {},
   "source": [
    "<center><font size=\"+2\"><b><u>Random Forest</u></b> </font></center>\n",
    "\n",
    "\n",
    "<b><u> Réalisé par :</u></b> Menacer Nasreddine\n"
   ]
  },
  {
   "cell_type": "code",
   "execution_count": null,
   "metadata": {},
   "outputs": [],
   "source": [
    "from sklearn.datasets import load_digits\n",
    "import numpy as np\n",
    "from sklearn import tree, datasets\n",
    "from sklearn.model_selection import train_test_split\n",
    "from sklearn.model_selection import cross_val_score\n",
    "from sklearn.metrics import accuracy_score\n",
    "from sklearn.tree import DecisionTreeClassifier\n",
    "from statistics import mean\n",
    "from sklearn.ensemble import BaggingClassifier\n",
    "from sklearn.ensemble import RandomForestClassifier\n",
    "from sklearn.grid_search import GridSearchCV\n",
    "import pandas as pd\n",
    "from sklearn import datasets,tree\n",
    "from sklearn.model_selection import train_test_split, cross_val_score,GridSearchCV, RandomizedSearchCV"
   ]
  },
  {
   "cell_type": "code",
   "execution_count": 36,
   "metadata": {},
   "outputs": [],
   "source": [
    "import matplotlib.pyplot as plt \n",
    "%matplotlib inline  \n",
    "from sklearn.metrics import classification_report\n",
    "import numpy as np\n",
    "import pandas as pd\n",
    "from sklearn import datasets,tree\n",
    "from sklearn.model_selection import train_test_split, cross_val_score,GridSearchCV, RandomizedSearchCV\n",
    "from sklearn.ensemble import BaggingClassifier, RandomForestClassifier\n",
    "from time import time\n",
    "from scipy.stats import randint as sp_randint"
   ]
  },
  {
   "cell_type": "code",
   "execution_count": 5,
   "metadata": {},
   "outputs": [],
   "source": [
    "digits = datasets.load_digits()\n",
    "temp = digits['images']\n",
    "y = digits['target']"
   ]
  },
  {
   "cell_type": "markdown",
   "metadata": {},
   "source": [
    "Flatten des données"
   ]
  },
  {
   "cell_type": "code",
   "execution_count": 6,
   "metadata": {},
   "outputs": [],
   "source": [
    "X = np.zeros( shape = (temp.shape[0], 64))\n",
    "for i in range(temp.shape[0]):\n",
    "    X[i] = temp[i].flatten()"
   ]
  },
  {
   "cell_type": "markdown",
   "metadata": {},
   "source": [
    "Dévision des données en ensembles d'entrainement, de teste, et de validation"
   ]
  },
  {
   "cell_type": "code",
   "execution_count": 7,
   "metadata": {},
   "outputs": [],
   "source": [
    "X_train, X_test,y_train, y_test = train_test_split(X,y,test_size=0.4) \n",
    "X_dev, X_test, y_dev, y_test = train_test_split(X_test,y_test, test_size = 0.2)"
   ]
  },
  {
   "cell_type": "code",
   "execution_count": 9,
   "metadata": {},
   "outputs": [
    {
     "data": {
      "image/png": "[encoded data removed]",
      "text/plain": [
       "<Figure size 1080x576 with 1 Axes>"
      ]
     },
     "metadata": {
      "needs_background": "light"
     },
     "output_type": "display_data"
    }
   ],
   "source": [
    "import matplotlib.pyplot as plt \n",
    "plt.figure(figsize=(15,8))\n",
    "plt.title('Exemple Image en entrée')\n",
    "plt.imshow(X[-1].reshape(8,8))\n",
    "plt.show()"
   ]
  },
  {
   "cell_type": "code",
   "execution_count": 11,
   "metadata": {},
   "outputs": [
    {
     "name": "stdout",
     "output_type": "stream",
     "text": [
      "Image du digit :  8\n"
     ]
    }
   ],
   "source": [
    "print(\"Image du digit : \", y[-1])"
   ]
  },
  {
   "cell_type": "markdown",
   "metadata": {},
   "source": [
    "# Experiment 0"
   ]
  },
  {
   "cell_type": "markdown",
   "metadata": {},
   "source": [
    "- Measure the accuracy of a single decision tree with a 5-fold cross-validation procedure and print the result as the mean accuracy over the 5 runs along with the standard deviation"
   ]
  },
  {
   "cell_type": "markdown",
   "metadata": {},
   "source": [
    "- Création de l'arbre de décision "
   ]
  },
  {
   "cell_type": "code",
   "execution_count": 14,
   "metadata": {},
   "outputs": [],
   "source": [
    "singleTreeDecisional = tree.DecisionTreeClassifier()"
   ]
  },
  {
   "cell_type": "markdown",
   "metadata": {},
   "source": [
    "- Entrainement de l'arbre de décision "
   ]
  },
  {
   "cell_type": "code",
   "execution_count": 13,
   "metadata": {},
   "outputs": [
    {
     "data": {
      "text/plain": [
       "DecisionTreeClassifier(ccp_alpha=0.0, class_weight=None, criterion='gini',\n",
       "                       max_depth=None, max_features=None, max_leaf_nodes=None,\n",
       "                       min_impurity_decrease=0.0, min_impurity_split=None,\n",
       "                       min_samples_leaf=1, min_samples_split=2,\n",
       "                       min_weight_fraction_leaf=0.0, presort='deprecated',\n",
       "                       random_state=None, splitter='best')"
      ]
     },
     "execution_count": 13,
     "metadata": {},
     "output_type": "execute_result"
    }
   ],
   "source": [
    "singleTreeDecisional.fit(X_train,y_train)"
   ]
  },
  {
   "cell_type": "markdown",
   "metadata": {},
   "source": [
    "- mesure de performance en 5-fold cross validation "
   ]
  },
  {
   "cell_type": "code",
   "execution_count": 20,
   "metadata": {},
   "outputs": [
    {
     "name": "stdout",
     "output_type": "stream",
     "text": [
      "Accuracy moyenne : 0.62\n",
      "Standard deviation : 0.03\n"
     ]
    }
   ],
   "source": [
    "cv = cross_val_score(singleTreeDecisional,X_test,y_test,cv=5)\n",
    "\n",
    "print(\"Accuracy moyenne : %.2f\" % cv.mean())\n",
    "print(\"Standard deviation : %.2f\" % cv.std())"
   ]
  },
  {
   "cell_type": "markdown",
   "metadata": {},
   "source": [
    "- Repeat the same experiment with a Bagged Forest, i.e. an ensemble of decision trees built with the Bagging principle (cf. BaggingClassifier in Scikit-learn). For now, use the default parametrization.\n"
   ]
  },
  {
   "cell_type": "code",
   "execution_count": 21,
   "metadata": {},
   "outputs": [
    {
     "name": "stdout",
     "output_type": "stream",
     "text": [
      "Accuracy moyenne : 0.77\n",
      "Standard deviation : 0.02\n"
     ]
    }
   ],
   "source": [
    "# création du modèle avec les paramètres par défaut\n",
    "bag_model = BaggingClassifier()\n",
    "# entrainment du modèle\n",
    "bag_model.fit(X_train,y_train)\n",
    "# mesure de performance en 5-fold cross validation \n",
    "cv = cross_val_score(bag_model,X_test,y_test,cv=5)\n",
    "\n",
    "print(\"Accuracy moyenne : %.2f\" % cv.mean())\n",
    "print(\"Standard deviation : %.2f\" % cv.std())"
   ]
  },
  {
   "cell_type": "markdown",
   "metadata": {},
   "source": [
    "- Repeat the same experiment with a Random Forest (cf. RandomForestClassifier in Scikit-learn), with default parametrization too."
   ]
  },
  {
   "cell_type": "code",
   "execution_count": 22,
   "metadata": {},
   "outputs": [
    {
     "name": "stdout",
     "output_type": "stream",
     "text": [
      "Moyenne : 0.90\n",
      "Standard deviation : 0.06\n"
     ]
    }
   ],
   "source": [
    "# création du modèle avec les paramètres par défaut\n",
    "rf_model = RandomForestClassifier()\n",
    "# entrainment du modèle\n",
    "rf_model.fit(X_train,y_train)\n",
    "# mesure de performance en 5-fold cross validation \n",
    "cv = cross_val_score(rf_model,X_test,y_test,cv=5)\n",
    "\n",
    "print(\"Moyenne : %.2f\" % cv.mean())\n",
    "print(\"Standard deviation : %.2f\" % cv.std())"
   ]
  },
  {
   "cell_type": "markdown",
   "metadata": {},
   "source": [
    "- Re-run this comparison between the three methods (single decision tree, bagged forest and random forest), but with 50 trees for each of the forests."
   ]
  },
  {
   "cell_type": "code",
   "execution_count": 23,
   "metadata": {},
   "outputs": [
    {
     "name": "stdout",
     "output_type": "stream",
     "text": [
      "Moyenne : 0.83\n",
      "Standard deviation : 0.06\n"
     ]
    }
   ],
   "source": [
    "bag_model = BaggingClassifier(base_estimator=singleTreeDecisional, n_estimators=50)\n",
    "bag_model.fit(X_train,y_train)\n",
    "cv = cross_val_score(bag_model,X_test,y_test,cv=5)\n",
    "\n",
    "print(\"Moyenne : %.2f\" % cv.mean())\n",
    "print(\"Standard deviation : %.2f\" % cv.std())"
   ]
  },
  {
   "cell_type": "code",
   "execution_count": 24,
   "metadata": {},
   "outputs": [
    {
     "name": "stdout",
     "output_type": "stream",
     "text": [
      "Moyenne : 0.90\n",
      "Standard deviation : 0.06\n"
     ]
    }
   ],
   "source": [
    "rf_model = RandomForestClassifier(n_estimators=50)\n",
    "rf_model.fit(X_train,y_train)\n",
    "cv = cross_val_score(rf_model,X_test,y_test,cv=5)\n",
    "\n",
    "print(\"Moyenne : %.2f\" % cv.mean())\n",
    "print(\"Standard deviation : %.2f\" % cv.std())"
   ]
  },
  {
   "cell_type": "markdown",
   "metadata": {},
   "source": [
    "- Analyze and comment the results."
   ]
  },
  {
   "cell_type": "markdown",
   "metadata": {},
   "source": [
    "Dans cette partie j'ai comparé un arbre de décision simple, avec des modèles d'arbres de décision (Bagging, Randomforest), et \n",
    "\n",
    "j'ai remarqué que les modeles qui font intervenir plusieurs arbres sont plus efficace qu'un seul arbre de décision.\n",
    "\n",
    "la méthode du random forest semble la mieux adaptée à notre problème puisqu'elle fournit les meilleurs résultats.\n",
    "\n",
    "j'ai ramarqué aussi que le nombre d'estimateurs a un impact sur la qualité du modèle (Bagging), puisque il fourni de meilleurs résulats l'orsque on utilise 50 arbres de décision."
   ]
  },
  {
   "cell_type": "markdown",
   "metadata": {},
   "source": [
    "# Experiment 1"
   ]
  },
  {
   "cell_type": "code",
   "execution_count": 25,
   "metadata": {},
   "outputs": [],
   "source": [
    "#création du modèle\n",
    "rf = RandomForestClassifier(random_state=1)"
   ]
  },
  {
   "cell_type": "code",
   "execution_count": 26,
   "metadata": {},
   "outputs": [],
   "source": [
    "# results_rf est un dictionnaire qui contient trois liste  où je vais stocker les moyennes de la crossvalidation, \n",
    "# l'écart type, et la crossvalidation elle meme\n",
    "results_rf = {'mean': [],'cv':[], 'std' : []}"
   ]
  },
  {
   "cell_type": "code",
   "execution_count": 27,
   "metadata": {},
   "outputs": [],
   "source": [
    "# i_list est une liste où je vais stocker les variables i par pas de 2\n",
    "i_list = []"
   ]
  },
  {
   "cell_type": "code",
   "execution_count": 28,
   "metadata": {},
   "outputs": [],
   "source": [
    "for i in range(1,50,2):\n",
    "    i_list.append(i)\n",
    "    # changement du nombre d'estimateurs\n",
    "    temp = {'n_estimators' : i}\n",
    "    rf.set_params(**temp)\n",
    "    \n",
    "    # re-entrainement du modèle aprés changement du nombre d'estimateurs\n",
    "    rf.fit(X_train,y_train)\n",
    "\n",
    "    # mesure de performance en cross validation et stockage des résultats dans le dictionnaire\n",
    "    cv = cross_val_score(rf,X,y,cv=5)\n",
    "    results_rf['mean'].append(cv.mean())\n",
    "    results_rf['cv'].append(cv)\n",
    "    results_rf['std'].append(cv.std())"
   ]
  },
  {
   "cell_type": "code",
   "execution_count": 29,
   "metadata": {},
   "outputs": [
    {
     "data": {
      "image/png": "[encoded data removed]",
      "text/plain": [
       "<Figure size 432x288 with 1 Axes>"
      ]
     },
     "metadata": {
      "needs_background": "light"
     },
     "output_type": "display_data"
    },
    {
     "data": {
      "image/png": "[encoded data removed]",
      "text/plain": [
       "<Figure size 432x288 with 1 Axes>"
      ]
     },
     "metadata": {
      "needs_background": "light"
     },
     "output_type": "display_data"
    }
   ],
   "source": [
    "plt.plot(i_list,results_rf['mean'])\n",
    "plt.xlabel(\"Nombre d'arbre\")\n",
    "plt.ylabel('Moyenne de la crossvalidation')\n",
    "plt.title('Moyenne en fonction du nombre d\\' arbres')\n",
    "plt.show()\n",
    "\n",
    "plt.plot(i_list,results_rf['std'])\n",
    "plt.xlabel(\"Nombre d'arbre\")\n",
    "plt.ylabel('Ecart type de la crossvalidation')\n",
    "plt.title('Ecart type en fonction du nombre d\\' arbres')\n",
    "plt.show()"
   ]
  },
  {
   "cell_type": "markdown",
   "metadata": {},
   "source": [
    "On remarque que la moyenne de la cross validationn augmente exponentiellement, au fur et à mesure qu'on ajoute d'arbre, mais qui stagne au tour des 95%, à partir de 30 arabres et plus.\n",
    "\n",
    "On remarque aussi que la courbe de l'écart type ne suis pas une distribution particulière, neaumoins elle tends à décroitre quand le nombre d'arbre augmente."
   ]
  },
  {
   "cell_type": "markdown",
   "metadata": {},
   "source": [
    "# Experiment 2"
   ]
  },
  {
   "cell_type": "markdown",
   "metadata": {},
   "source": [
    "- Using the GridSearchCV function from Scikit-learn, compare the accuracies obtained with random forests learnt with each possible combination of the following hyperparemeter values:\n",
    "- Minimum number of instances in the leaves: [0.1, 0.2, 0.3, 0.4, 0.5]\n",
    "- Number of random features: [1, 8, 16, 32, 64]\n",
    "\n",
    "Each forest will be composed of 50 random trees."
   ]
  },
  {
   "cell_type": "code",
   "execution_count": 30,
   "metadata": {},
   "outputs": [],
   "source": [
    "clf = RandomForestClassifier(n_estimators=50)\n",
    "\n",
    "# Création de la grille de recherche \n",
    "param_grid ={'min_samples_leaf' : [0.1,0.2,0.3,0.4,0.5], 'max_features': [1,8,16,32,64]}\n"
   ]
  },
  {
   "cell_type": "code",
   "execution_count": 32,
   "metadata": {},
   "outputs": [],
   "source": [
    "from sklearn.model_selection import train_test_split, cross_val_score,GridSearchCV, RandomizedSearchCV\n",
    "# Création de l'objet gridsearch\n",
    "grid_search = GridSearchCV(clf, param_grid=param_grid, cv=5)"
   ]
  },
  {
   "cell_type": "code",
   "execution_count": 34,
   "metadata": {},
   "outputs": [
    {
     "name": "stdout",
     "output_type": "stream",
     "text": [
      "GridSearchCV took 12.02 seconds for 25 candidate parameter settings.\n"
     ]
    }
   ],
   "source": [
    "from time import time\n",
    "# Calcule de temps d'exécution \n",
    "start = time()\n",
    "\n",
    "#Entrainement \n",
    "grid_search.fit(X, y)\n",
    "\n",
    "#On print le temps pris\n",
    "print(\"GridSearchCV took %.2f seconds for %d candidate parameter settings.\"\n",
    "      % (time() - start, len(grid_search.cv_results_['params'])))\n"
   ]
  },
  {
   "cell_type": "code",
   "execution_count": 41,
   "metadata": {},
   "outputs": [
    {
     "name": "stdout",
     "output_type": "stream",
     "text": [
      "Rang: 1\n",
      "La moyenne du score sur les données de validation: 0.815 (std: 0.023)\n",
      "Parametres: {'max_features': 8, 'min_samples_leaf': 0.1}\n",
      "\n",
      "Rang: 2\n",
      "La moyenne du score sur les données de validation: 0.765 (std: 0.022)\n",
      "Parametres: {'max_features': 16, 'min_samples_leaf': 0.1}\n",
      "\n",
      "Rang: 3\n",
      "La moyenne du score sur les données de validation: 0.761 (std: 0.043)\n",
      "Parametres: {'max_features': 1, 'min_samples_leaf': 0.1}\n",
      "\n",
      "Rang: 4\n",
      "La moyenne du score sur les données de validation: 0.724 (std: 0.064)\n",
      "Parametres: {'max_features': 1, 'min_samples_leaf': 0.2}\n",
      "\n",
      "Rang: 5\n",
      "La moyenne du score sur les données de validation: 0.689 (std: 0.033)\n",
      "Parametres: {'max_features': 32, 'min_samples_leaf': 0.1}\n",
      "\n",
      "Rang: 6\n",
      "La moyenne du score sur les données de validation: 0.687 (std: 0.052)\n",
      "Parametres: {'max_features': 8, 'min_samples_leaf': 0.2}\n",
      "\n",
      "Rang: 7\n",
      "La moyenne du score sur les données de validation: 0.678 (std: 0.035)\n",
      "Parametres: {'max_features': 16, 'min_samples_leaf': 0.2}\n",
      "\n",
      "Rang: 8\n",
      "La moyenne du score sur les données de validation: 0.674 (std: 0.044)\n",
      "Parametres: {'max_features': 8, 'min_samples_leaf': 0.3}\n",
      "\n",
      "Rang: 9\n",
      "La moyenne du score sur les données de validation: 0.637 (std: 0.046)\n",
      "Parametres: {'max_features': 1, 'min_samples_leaf': 0.3}\n",
      "\n",
      "Rang: 10\n",
      "La moyenne du score sur les données de validation: 0.605 (std: 0.053)\n",
      "Parametres: {'max_features': 32, 'min_samples_leaf': 0.2}\n",
      "\n"
     ]
    }
   ],
   "source": [
    "# Affichage des paramètres qui ont données les meilleurs résultats \n",
    "# Fonction prise de la documention Sklearn en ligne \n",
    "def report(results, n_top=3):\n",
    "    for i in range(1, n_top + 1):\n",
    "        candidates = np.flatnonzero(results['rank_test_score'] == i)\n",
    "        for candidate in candidates:\n",
    "            print(\"Rang: {0}\".format(i))\n",
    "            print(\"La moyenne du score sur les données de validation: {0:.3f} (std: {1:.3f})\".format(\n",
    "                  results['mean_test_score'][candidate],\n",
    "                  results['std_test_score'][candidate]))\n",
    "            print(\"Parametres: {0}\".format(results['params'][candidate]))\n",
    "            print(\"\")\n",
    "\n",
    "report(grid_search.cv_results_,n_top=10)\n"
   ]
  },
  {
   "cell_type": "markdown",
   "metadata": {},
   "source": [
    "On remarque aprés cette experimentation que le modèle qui donne de meilleurs résultats a un k=8, cela signifie qu'on a peu de variable non significatives, mais cela n'est pas une vérité absolue, car on pris que les 10 meilleurs modèles, et dans ces 10 meilleurs, ce résultat n'apparait que 3 fois.\n",
    "\n",
    "Par ailleurs un modèle apparait quand lui 4 fois, mais avec un k plus élevé, cela signifie qu'il a des variables insignifiantes, neaumoins, elles sont moins significatifs que d'autres.\n",
    "\n",
    "On remarque aussi qu'une fraction (le nombre minimum de feuilles dans le modèle donné par le parametre min_simple_leaf), faible et aventagé, en effet dans le top 3 des meilleurs résultats, on retrouve une fraction, tandis qu'une portin avec 0.3% de l'échantiollon n'apparait qu'en 8 ème position \n",
    "\n"
   ]
  },
  {
   "cell_type": "markdown",
   "metadata": {},
   "source": [
    "# Experiment 3"
   ]
  },
  {
   "cell_type": "markdown",
   "metadata": {},
   "source": [
    "In this experiment, you will implement and test the similarity measure embed in the\n",
    "random forests. This measure is not available from the RandomForestClassifier\n",
    "objects in Scikit-learn. Therefore you will have to define your own function that takes in\n",
    "input:\n",
    "◦ a trained random forest hRF\n",
    "◦ its trainset, noted Dtrain\n",
    "and that outputs a n × n similarity matrix P, n being the number of instances in Dtrain\n",
    "and P[i, j], the value at the i\n",
    "th row and j\n",
    "th column of P, being the similarity between the\n",
    "i\n",
    "th and j\n",
    "th instances of Dtrain.\n",
    "To do so, you can use the apply method of RandomForestClassifier. To test whether\n",
    "or not your implementation is correct, you can visualize few pairs of digits1 and verify if\n",
    "the similarity measured is consistent with the resemblance between the images."
   ]
  },
  {
   "cell_type": "code",
   "execution_count": 42,
   "metadata": {},
   "outputs": [
    {
     "data": {
      "text/plain": [
       "RandomForestClassifier(bootstrap=True, ccp_alpha=0.0, class_weight=None,\n",
       "                       criterion='gini', max_depth=None, max_features='auto',\n",
       "                       max_leaf_nodes=None, max_samples=None,\n",
       "                       min_impurity_decrease=0.0, min_impurity_split=None,\n",
       "                       min_samples_leaf=1, min_samples_split=2,\n",
       "                       min_weight_fraction_leaf=0.0, n_estimators=50,\n",
       "                       n_jobs=None, oob_score=False, random_state=None,\n",
       "                       verbose=0, warm_start=False)"
      ]
     },
     "execution_count": 42,
     "metadata": {},
     "output_type": "execute_result"
    }
   ],
   "source": [
    "#On cherche maintenant à créer la matrice de similarité entre les données.\n",
    "# définition de la foret \n",
    "clf = RandomForestClassifier(n_estimators=50)\n",
    "# entrainer\n",
    "clf.fit(X_train,y_train)"
   ]
  },
  {
   "cell_type": "code",
   "execution_count": 43,
   "metadata": {},
   "outputs": [],
   "source": [
    "# application de l'arbre entrainé sur les données de  test.\n",
    "apply = clf.apply(X_test)"
   ]
  },
  {
   "cell_type": "code",
   "execution_count": 45,
   "metadata": {},
   "outputs": [],
   "source": [
    "#Fonction de similarité. qui prend en entrée une foret aléatoire et un échantillon de données.\n",
    "def similarity(clf,X):\n",
    "    #On récupère les 50 arbres \n",
    "    apply = clf.apply(X)\n",
    "    #Récupération de la taille de la foret \n",
    "    n,p = apply.shape\n",
    "    # Initialisation de la matrice de similarité à 0 \n",
    "    similarity = np.zeros((n,n))\n",
    "    for i in range (n):\n",
    "        for j in range (n): \n",
    "            d = 0\n",
    "            for p in range (50):\n",
    "                #Pour chaque couple i,j on effectue la somme de leur distance dans chaque arbre p.\n",
    "                d += abs(apply[i][p] - apply[j][p])\n",
    "            d = d/50\n",
    "            similarity[i][j] = abs(d)\n",
    "            similarity[j][i] = abs(d)\n",
    "    return similarity"
   ]
  },
  {
   "cell_type": "code",
   "execution_count": 46,
   "metadata": {},
   "outputs": [],
   "source": [
    "#application de la fonction sur les données d'entrainement et récupération de la matrice de similarité\n",
    "temp = similarity(clf,X_train)"
   ]
  },
  {
   "cell_type": "code",
   "execution_count": 47,
   "metadata": {},
   "outputs": [
    {
     "data": {
      "image/png": "[encoded data removed]",
      "text/plain": [
       "<Figure size 432x288 with 1 Axes>"
      ]
     },
     "metadata": {
      "needs_background": "light"
     },
     "output_type": "display_data"
    },
    {
     "name": "stdout",
     "output_type": "stream",
     "text": [
      "Cette image est un :  2\n"
     ]
    },
    {
     "data": {
      "image/png": "[encoded data removed]",
      "text/plain": [
       "<Figure size 432x288 with 1 Axes>"
      ]
     },
     "metadata": {
      "needs_background": "light"
     },
     "output_type": "display_data"
    },
    {
     "name": "stdout",
     "output_type": "stream",
     "text": [
      "Cette image est un :  2\n"
     ]
    }
   ],
   "source": [
    "mini = 9999 \n",
    "\n",
    "#On cherche ici à determiner le couple pour lequel il y a une similarité \n",
    "#la plus proche sans que ce soit la même image            \n",
    "\n",
    "\n",
    "for i in range (temp.shape[0]):\n",
    "    for j in range(temp.shape[1]):\n",
    "        if not temp[i,j] == 0 and temp[i,j]< 1:\n",
    "            mini = temp[i,j]\n",
    "            si, sj = i,j\n",
    "            \n",
    "            \n",
    "plt.imshow(X_train[si].reshape(8,8))\n",
    "plt.show()\n",
    "print(\"Cette image est un : \",y_train[si])\n",
    "\n",
    "plt.imshow(X_train[sj].reshape(8,8))\n",
    "plt.show()\n",
    "print(\"Cette image est un : \",y_train[sj])"
   ]
  },
  {
   "cell_type": "code",
   "execution_count": 48,
   "metadata": {},
   "outputs": [
    {
     "data": {
      "image/png": "[encoded data removed]",
      "text/plain": [
       "<Figure size 432x288 with 1 Axes>"
      ]
     },
     "metadata": {
      "needs_background": "light"
     },
     "output_type": "display_data"
    },
    {
     "name": "stdout",
     "output_type": "stream",
     "text": [
      "Cette image est un :  5\n"
     ]
    },
    {
     "data": {
      "image/png": "[encoded data removed]",
      "text/plain": [
       "<Figure size 432x288 with 1 Axes>"
      ]
     },
     "metadata": {
      "needs_background": "light"
     },
     "output_type": "display_data"
    },
    {
     "name": "stdout",
     "output_type": "stream",
     "text": [
      "Cette image est un :  9\n"
     ]
    }
   ],
   "source": [
    "#On cherche ici à determiner le couple pour lequel il y a une similarité \n",
    "#la plus forte \n",
    "\n",
    "maxi = 0\n",
    "for i in range (temp.shape[0]):\n",
    "    for j in range(temp.shape[1]):\n",
    "        if temp[i,j] > maxi:\n",
    "            maxi = temp[i,j]\n",
    "            si, sj = i,j\n",
    "\n",
    "\n",
    "plt.imshow(X_train[si].reshape(8,8))\n",
    "plt.show()\n",
    "print(\"Cette image est un : \", y_train[si])\n",
    "\n",
    "plt.imshow(X_train[sj].reshape(8,8))\n",
    "plt.show()\n",
    "print(\"Cette image est un : \",y_train[sj])\n",
    "\n"
   ]
  },
  {
   "cell_type": "markdown",
   "metadata": {},
   "source": [
    "On remarque que les resultats sont satisfaisant, en effet  Les deux images supposées être proche représente toutes les deux des 0 , elle sont donc similaires. Par contre, les images supposées être distantes, sont bien différentes."
   ]
  },
  {
   "cell_type": "markdown",
   "metadata": {},
   "source": [
    "# Experiment 4"
   ]
  },
  {
   "cell_type": "code",
   "execution_count": 49,
   "metadata": {},
   "outputs": [
    {
     "data": {
      "text/plain": [
       "RandomForestClassifier(bootstrap=True, ccp_alpha=0.0, class_weight=None,\n",
       "                       criterion='gini', max_depth=None, max_features='auto',\n",
       "                       max_leaf_nodes=None, max_samples=None,\n",
       "                       min_impurity_decrease=0.0, min_impurity_split=None,\n",
       "                       min_samples_leaf=1, min_samples_split=2,\n",
       "                       min_weight_fraction_leaf=0.0, n_estimators=50,\n",
       "                       n_jobs=None, oob_score=False, random_state=None,\n",
       "                       verbose=0, warm_start=False)"
      ]
     },
     "execution_count": 49,
     "metadata": {},
     "output_type": "execute_result"
    }
   ],
   "source": [
    "from sklearn.datasets import make_classification\n",
    "\n",
    "X,y = make_classification(n_samples=1000, n_features=20, n_informative=5, n_redundant=0, n_repeated=0, n_classes=2)\n",
    "\n",
    "X_train, X_test,y_train, y_test = train_test_split(X,y,test_size=0.4) \n",
    "X_dev, X_test, y_dev, y_test = train_test_split(X_test,y_test, test_size = 0.2)\n",
    "\n",
    "forest = RandomForestClassifier(n_estimators=50)\n",
    "forest.fit(X,y)"
   ]
  },
  {
   "cell_type": "code",
   "execution_count": 50,
   "metadata": {},
   "outputs": [
    {
     "name": "stdout",
     "output_type": "stream",
     "text": [
      "Feature ranking:\n",
      "1. feature 17 (0.229330)\n",
      "2. feature 15 (0.184877)\n",
      "3. feature 5 (0.107893)\n",
      "4. feature 1 (0.063871)\n",
      "5. feature 4 (0.048188)\n",
      "6. feature 10 (0.031422)\n",
      "7. feature 8 (0.030657)\n",
      "8. feature 16 (0.027089)\n",
      "9. feature 12 (0.026456)\n",
      "10. feature 13 (0.025158)\n",
      "11. feature 7 (0.024565)\n",
      "12. feature 11 (0.024244)\n",
      "13. feature 6 (0.023934)\n",
      "14. feature 3 (0.023701)\n",
      "15. feature 9 (0.023321)\n",
      "16. feature 18 (0.023010)\n",
      "17. feature 0 (0.021666)\n",
      "18. feature 14 (0.020431)\n",
      "19. feature 2 (0.020192)\n",
      "20. feature 19 (0.019996)\n"
     ]
    },
    {
     "data": {
      "image/png": "[encoded data removed]",
      "text/plain": [
       "<Figure size 1152x648 with 1 Axes>"
      ]
     },
     "metadata": {
      "needs_background": "light"
     },
     "output_type": "display_data"
    }
   ],
   "source": [
    "#je reprend une fonction définie par la documentation de sklearn.\n",
    "\n",
    "\n",
    "def features_importance(forest): \n",
    "    #On récupere la mesure de l'importznce inclue dans la random forest\n",
    "    importances = forest.feature_importances_\n",
    "    #On calcule l'écart type de l'importance de la variable dans chaque arbre\n",
    "    std = np.std([tree.feature_importances_ for tree in forest.estimators_],\n",
    "                 axis=0)\n",
    "    #On trie les variables par ordre d'importance\n",
    "    indices = np.argsort(importances)[::-1]\n",
    "\n",
    "    # Print the feature ranking\n",
    "    print(\"Feature ranking:\")\n",
    "\n",
    "    for f in range(X.shape[1]):\n",
    "        print(\"%d. feature %d (%f)\" % (f + 1, indices[f], importances[indices[f]]))\n",
    "\n",
    "    # Plot the feature importances of the forest\n",
    "    plt.figure(figsize=(16,9))\n",
    "    plt.title(\"Feature importances\")\n",
    "    plt.bar(range(X.shape[1]), importances[indices],\n",
    "           color=\"r\", yerr=std[indices], align=\"center\")\n",
    "    plt.xlabel(\"Numero de la variable\")\n",
    "    plt.xticks(range(X.shape[1]), indices, rotation = 0)\n",
    "    plt.xlim([-1, X.shape[1]])\n",
    "    plt.show()\n",
    "    \n",
    "features_importance(forest)"
   ]
  },
  {
   "cell_type": "markdown",
   "metadata": {},
   "source": [
    "On voit bien qu'on a 5 variables qui se démarquent des autres par leur importance dans le modèle. Donc la mesure semble consistante. On voit bien que l'écart type semble aussi proportionnel à l'importance de la variable."
   ]
  },
  {
   "cell_type": "code",
   "execution_count": 51,
   "metadata": {},
   "outputs": [
    {
     "name": "stdout",
     "output_type": "stream",
     "text": [
      "Feature ranking:\n",
      "1. feature 22 (0.201017)\n",
      "2. feature 7 (0.132298)\n",
      "3. feature 27 (0.124565)\n",
      "4. feature 23 (0.105600)\n",
      "5. feature 20 (0.078858)\n",
      "6. feature 0 (0.057172)\n",
      "7. feature 2 (0.054640)\n",
      "8. feature 3 (0.045904)\n",
      "9. feature 6 (0.031023)\n",
      "10. feature 21 (0.025971)\n",
      "11. feature 26 (0.025597)\n",
      "12. feature 1 (0.016153)\n",
      "13. feature 24 (0.012348)\n",
      "14. feature 28 (0.010327)\n",
      "15. feature 13 (0.008425)\n",
      "16. feature 29 (0.007705)\n",
      "17. feature 4 (0.007544)\n",
      "18. feature 10 (0.007080)\n",
      "19. feature 19 (0.005584)\n",
      "20. feature 25 (0.005457)\n",
      "21. feature 17 (0.004723)\n",
      "22. feature 12 (0.004102)\n",
      "23. feature 16 (0.004005)\n",
      "24. feature 5 (0.003840)\n",
      "25. feature 14 (0.003636)\n",
      "26. feature 8 (0.003632)\n",
      "27. feature 9 (0.003549)\n",
      "28. feature 11 (0.003267)\n",
      "29. feature 15 (0.003150)\n",
      "30. feature 18 (0.002829)\n"
     ]
    },
    {
     "data": {
      "image/png": "[encoded data removed]",
      "text/plain": [
       "<Figure size 1152x648 with 1 Axes>"
      ]
     },
     "metadata": {
      "needs_background": "light"
     },
     "output_type": "display_data"
    }
   ],
   "source": [
    "from sklearn.datasets import load_breast_cancer\n",
    "\n",
    "breast_cancer = load_breast_cancer()\n",
    "X = breast_cancer.data\n",
    "y = breast_cancer.target\n",
    "\n",
    "forest.fit(X,y)\n",
    "features_importance(forest)"
   ]
  },
  {
   "cell_type": "markdown",
   "metadata": {},
   "source": [
    "L'importance de chaque variable est plus mince qu'avec nos données synthétiques. Tout d'abord, l'écart entre données significatives et données insignifiantes est plus compliquée à déterminer, il nécéssitera d'imposer un seuil. Je n'ai pas trouvé la correspondance entre le numéro de la variable et ce qu'elle mesurait, cela aurait été intéréssant à mettre en avant.\n",
    "On voit également une différence sur l'écart type. En effet, dans l'exemple précédent, il était beaucoup plus faible. Ici l'écart type est beaucoup plus fort."
   ]
  }
 ],
 "metadata": {
  "kernelspec": {
   "display_name": "Python 3",
   "language": "python",
   "name": "python3"
  },
  "language_info": {
   "codemirror_mode": {
    "name": "ipython",
    "version": 3
   },
   "file_extension": ".py",
   "mimetype": "text/x-python",
   "name": "python",
   "nbconvert_exporter": "python",
   "pygments_lexer": "ipython3",
   "version": "3.7.3"
  }
 },
 "nbformat": 4,
 "nbformat_minor": 2
}
